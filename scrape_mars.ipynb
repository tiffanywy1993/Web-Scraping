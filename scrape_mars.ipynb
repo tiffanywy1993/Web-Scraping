{
 "cells": [
  {
   "cell_type": "code",
   "execution_count": 1,
   "metadata": {},
   "outputs": [],
   "source": [
    "from bs4 import BeautifulSoup\n",
    "import requests\n",
    "from splinter import Browser\n",
    "import pandas as pd\n",
    "from time import sleep\n"
   ]
  },
  {
   "cell_type": "code",
   "execution_count": 4,
   "metadata": {},
   "outputs": [],
   "source": [
    "def scrape():\n",
    "    mars_results = {}\n",
    "    # Mars news scraping\n",
    "\n",
    "executable_path = {'executable_path': '/usr/local/bin/chromedriver'}\n",
    "browser = Browser('chrome', **executable_path, headless=False)"
   ]
  },
  {
   "cell_type": "code",
   "execution_count": 5,
   "metadata": {},
   "outputs": [
    {
     "ename": "NameError",
     "evalue": "name 'mars_results' is not defined",
     "output_type": "error",
     "traceback": [
      "\u001b[0;31m---------------------------------------------------------------------------\u001b[0m",
      "\u001b[0;31mNameError\u001b[0m                                 Traceback (most recent call last)",
      "\u001b[0;32m<ipython-input-5-2f0c3d7d0dd4>\u001b[0m in \u001b[0;36m<module>\u001b[0;34m()\u001b[0m\n\u001b[1;32m     14\u001b[0m \u001b[0mnews_p\u001b[0m \u001b[0;34m=\u001b[0m \u001b[0msoup\u001b[0m\u001b[0;34m.\u001b[0m\u001b[0mfind\u001b[0m\u001b[0;34m(\u001b[0m\u001b[0;34m\"li\"\u001b[0m\u001b[0;34m,\u001b[0m \u001b[0mclass_\u001b[0m\u001b[0;34m=\u001b[0m\u001b[0;34m\"slide\"\u001b[0m\u001b[0;34m)\u001b[0m\u001b[0;34m.\u001b[0m\u001b[0mfind\u001b[0m\u001b[0;34m(\u001b[0m\u001b[0;34m\"div\"\u001b[0m\u001b[0;34m,\u001b[0m \u001b[0mclass_\u001b[0m\u001b[0;34m=\u001b[0m\u001b[0;34m\"article_teaser_body\"\u001b[0m\u001b[0;34m)\u001b[0m\u001b[0;34m.\u001b[0m\u001b[0mtext\u001b[0m\u001b[0;34m\u001b[0m\u001b[0m\n\u001b[1;32m     15\u001b[0m \u001b[0;34m\u001b[0m\u001b[0m\n\u001b[0;32m---> 16\u001b[0;31m \u001b[0mmars_results\u001b[0m\u001b[0;34m[\u001b[0m\u001b[0;34m\"news_title\"\u001b[0m\u001b[0;34m]\u001b[0m \u001b[0;34m=\u001b[0m \u001b[0mnews_title\u001b[0m\u001b[0;34m\u001b[0m\u001b[0m\n\u001b[0m\u001b[1;32m     17\u001b[0m \u001b[0mmars_results\u001b[0m\u001b[0;34m[\u001b[0m\u001b[0;34m\"news_p\"\u001b[0m\u001b[0;34m]\u001b[0m \u001b[0;34m=\u001b[0m \u001b[0mnews_p\u001b[0m\u001b[0;34m\u001b[0m\u001b[0m\n",
      "\u001b[0;31mNameError\u001b[0m: name 'mars_results' is not defined"
     ]
    }
   ],
   "source": [
    "# Featured image url scraping\n",
    "\n",
    "news_url = \"https://mars.nasa.gov/news/?page=0&per_page=40&order=publish_date+desc%2Ccreated_at+desc&search=&category=19%2C165%2C184%2C204&blank_scope=Latest\"\n",
    "browser.visit(news_url)\n",
    "\n",
    "\n",
    "while not browser.is_element_present_by_tag(\"li\", wait_time=5):\n",
    "        pass\n",
    "\n",
    "html = browser.html\n",
    "soup = BeautifulSoup(html, 'html.parser')\n",
    "\n",
    "news_title = soup.find(\"li\", class_=\"slide\").find(\"div\", class_=\"content_title\").text\n",
    "news_p = soup.find(\"li\", class_=\"slide\").find(\"div\", class_=\"article_teaser_body\").text\n",
    "\n",
    "mars_results[\"news_title\"] = news_title\n",
    "mars_results[\"news_p\"] = news_p\n",
    "\n"
   ]
  },
  {
   "cell_type": "code",
   "execution_count": null,
   "metadata": {},
   "outputs": [],
   "source": [
    "# Mars weather tweet scraping\n",
    "\n",
    "    weather_twitter_url = \"https://twitter.com/marswxreport?lang=en\"\n",
    "    browser.visit(weather_twitter_url)\n",
    "\n",
    "    html = browser.html\n",
    "    soup = BeautifulSoup(html, 'html.parser')\n",
    "    \n",
    " tweets = soup.find(\"div\", class_=\"stream\").find(\"ol\").find_all(\"li\", class_=\"js-stream-item\")\n",
    "    for tweet in tweets:\n",
    "        tweet_text = tweet.find(\"div\", class_=\"js-tweet-text-container\").text\n",
    "        if \"Sol \" in tweet_text:\n",
    "                mars_weather = tweet_text.strip()\n",
    "                break\n",
    " mars_results[\"mars_weather\"] = mars_weather"
   ]
  },
  {
   "cell_type": "code",
   "execution_count": null,
   "metadata": {},
   "outputs": [],
   "source": [
    "url = \"https://www.jpl.nasa.gov/spaceimages/?search=&category=Mars\"\n",
    "browser.visit(url)\n",
    "\n",
    "featured_img_base = \"https://www.jpl.nasa.gov\"\n",
    "featured_img_url_raw = soup.find(\"div\", class_=\"carousel_items\").find(\"article\")[\"style\"]\n",
    "featured_img_url = featured_img_url_raw.split(\"'\")[1]\n",
    "featured_img_url = featured_img_base + featured_img_url\n",
    "\n",
    "mars_results[\"featured_img_url\"] = featured_img_url"
   ]
  },
  {
   "cell_type": "code",
   "execution_count": 6,
   "metadata": {},
   "outputs": [
    {
     "ename": "IndentationError",
     "evalue": "unexpected indent (<ipython-input-6-0e03d84518a0>, line 15)",
     "output_type": "error",
     "traceback": [
      "\u001b[0;36m  File \u001b[0;32m\"<ipython-input-6-0e03d84518a0>\"\u001b[0;36m, line \u001b[0;32m15\u001b[0m\n\u001b[0;31m    mars_results[\"facts_html_table\"] = facts_html_table\u001b[0m\n\u001b[0m    ^\u001b[0m\n\u001b[0;31mIndentationError\u001b[0m\u001b[0;31m:\u001b[0m unexpected indent\n"
     ]
    }
   ],
   "source": [
    "facts_url = \"https://space-facts.com/mars/\"\n",
    "tables = pd.read_html(facts_url)\n",
    "\n",
    "facts_df = tables[0]\n",
    "facts_df.columns = [\"Fact\",\"Value\"]\n",
    "\n",
    "# get rid of trailing colon\n",
    "facts_df[\"Fact\"] = facts_df[\"Fact\"].str[:-1]\n",
    "facts_df = facts_df.set_index(\"Fact\")\n",
    "facts_df\n",
    "\n",
    "facts_html_table = facts_df.to_html()\n",
    "facts_html_table = facts_html_table.replace('\\n', '')\n",
    "    \n",
    "    mars_results[\"facts_html_table\"] = facts_html_table"
   ]
  },
  {
   "cell_type": "code",
   "execution_count": 8,
   "metadata": {},
   "outputs": [
    {
     "ename": "IndentationError",
     "evalue": "unexpected indent (<ipython-input-8-06fb326f930d>, line 32)",
     "output_type": "error",
     "traceback": [
      "\u001b[0;36m  File \u001b[0;32m\"<ipython-input-8-06fb326f930d>\"\u001b[0;36m, line \u001b[0;32m32\u001b[0m\n\u001b[0;31m    return mars_results\u001b[0m\n\u001b[0m    ^\u001b[0m\n\u001b[0;31mIndentationError\u001b[0m\u001b[0;31m:\u001b[0m unexpected indent\n"
     ]
    }
   ],
   "source": [
    "base_hemisphere_url = \"https://astrogeology.usgs.gov\"\n",
    "hemisphere_url = \"https://astrogeology.usgs.gov/search/results?q=hemisphere+enhanced&k1=target&v1=Mars\"\n",
    "browser.visit(hemisphere_url)\n",
    "\n",
    "html = browser.html\n",
    "soup = BeautifulSoup(html, 'html.parser')\n",
    "    \n",
    "hemisphere_image_urls = []\n",
    "\n",
    "links = soup.find_all(\"div\", class_=\"item\")\n",
    "\n",
    "for link in links:\n",
    "        img_dict = {}\n",
    "        title = link.find(\"h3\").text\n",
    "        next_link = link.find(\"div\", class_=\"description\").a[\"href\"]\n",
    "        full_next_link = base_hemisphere_url + next_link\n",
    "        \n",
    "        browser.visit(full_next_link)\n",
    "        \n",
    "        pic_html = browser.html\n",
    "        pic_soup = BeautifulSoup(pic_html, 'html.parser')\n",
    "        \n",
    "        url = pic_soup.find(\"img\", class_=\"wide-image\")[\"src\"]\n",
    "\n",
    "        img_dict[\"title\"] = title\n",
    "        img_dict[\"img_url\"] = base_hemisphere_url + url\n",
    "        \n",
    "        hemisphere_image_urls.append(img_dict)\n",
    "\n",
    "mars_results[\"hemisphere_image_urls\"] = hemisphere_image_urls\n",
    "\n",
    "    return mars_results"
   ]
  },
  {
   "cell_type": "code",
   "execution_count": null,
   "metadata": {},
   "outputs": [],
   "source": []
  },
  {
   "cell_type": "code",
   "execution_count": null,
   "metadata": {},
   "outputs": [],
   "source": []
  }
 ],
 "metadata": {
  "kernelspec": {
   "display_name": "Python 3",
   "language": "python",
   "name": "python3"
  },
  "language_info": {
   "codemirror_mode": {
    "name": "ipython",
    "version": 3
   },
   "file_extension": ".py",
   "mimetype": "text/x-python",
   "name": "python",
   "nbconvert_exporter": "python",
   "pygments_lexer": "ipython3",
   "version": "3.7.0"
  }
 },
 "nbformat": 4,
 "nbformat_minor": 2
}
